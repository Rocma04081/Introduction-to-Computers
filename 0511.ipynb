{
  "nbformat": 4,
  "nbformat_minor": 0,
  "metadata": {
    "colab": {
      "name": "0511.ipynb",
      "provenance": [],
      "authorship_tag": "ABX9TyOcXwMzGp+cOwTvTNaPLW5i",
      "include_colab_link": true
    },
    "kernelspec": {
      "name": "python3",
      "display_name": "Python 3"
    },
    "language_info": {
      "name": "python"
    }
  },
  "cells": [
    {
      "cell_type": "markdown",
      "metadata": {
        "id": "view-in-github",
        "colab_type": "text"
      },
      "source": [
        "<a href=\"https://colab.research.google.com/github/Rocma04081/Introduction-to-Computers/blob/main/0511.ipynb\" target=\"_parent\"><img src=\"https://colab.research.google.com/assets/colab-badge.svg\" alt=\"Open In Colab\"/></a>"
      ]
    },
    {
      "cell_type": "code",
      "execution_count": null,
      "metadata": {
        "colab": {
          "base_uri": "https://localhost:8080/"
        },
        "id": "7u_2G5ccg_kE",
        "outputId": "d424489d-a294-4f87-b3fd-321ac426c7b8"
      },
      "outputs": [
        {
          "output_type": "stream",
          "name": "stdout",
          "text": [
            "test\n"
          ]
        }
      ],
      "source": [
        "print(\"test\")"
      ]
    },
    {
      "cell_type": "code",
      "source": [
        "temp = float(input(\"請輸入你的體溫\"))\n",
        "if temp>=37.5:\n",
        "    print(\"體溫過高!\")\n",
        "elif temp>=37 and temp<=37.4:\n",
        "    print(\"體溫略高!\")\n",
        "elif temp>=34 and temp<=36.9:\n",
        "    print(\"體溫正常!\")\n",
        "else:\n",
        "    print(\"體溫異常，請重新測量!\")"
      ],
      "metadata": {
        "colab": {
          "base_uri": "https://localhost:8080/"
        },
        "id": "Cao0mplmhIp0",
        "outputId": "7d5f521b-5acc-4436-a72e-c0d077e84f5d"
      },
      "execution_count": null,
      "outputs": [
        {
          "output_type": "stream",
          "name": "stdout",
          "text": [
            "請輸入你的體溫37.5\n",
            "體溫過高!\n"
          ]
        }
      ]
    },
    {
      "cell_type": "code",
      "source": [
        "money = int(input(\"請輸入購物金額:\"))\n",
        "if (money>=10000):\n",
        "  if(money>=100000):\n",
        "    print(\"八折\",money*0.8,end = \"元\\n\")\n",
        "  elif(money>=50000):\n",
        "    print(\"八五折\",money*0.85,end = \"元\\n\")\n",
        "  elif(money>=30000):\n",
        "    print(\"九折\",money*0.9,end = \"元\\n\")\n",
        "  else:\n",
        "    print(\"九五折\",money*0.95,end = \"元\\n\")\n",
        "else:\n",
        "    print(\"沒打折\",money,end = \"元\\n\")"
      ],
      "metadata": {
        "colab": {
          "base_uri": "https://localhost:8080/"
        },
        "id": "KHrqCW6KkoWx",
        "outputId": "e17c9002-4b1e-452a-f546-3d364b7d25ee"
      },
      "execution_count": null,
      "outputs": [
        {
          "output_type": "stream",
          "name": "stdout",
          "text": [
            "請輸入購物金額:100\n",
            "沒打折 100元\n"
          ]
        }
      ]
    },
    {
      "cell_type": "code",
      "source": [
        "money = int(input(\"請輸入購物金額:\"))\n",
        "if (money>=10000):\n",
        "  if(money>=100000):\n",
        "    print(\"八折\",money*0.8,end = \"元\\n\")\n",
        "  elif(money>=50000):\n",
        "    print(\"八五折\",money*0.85,end = \"元\\n\")\n",
        "  elif(money>=30000):\n",
        "    print(\"九折\",money*0.9,end = \"元\\n\")\n",
        "  else:\n",
        "    print(\"九五折\",money*0.95,end = \"元\\n\")\n",
        "else:\n",
        "    print(\"沒打折\",money,end = \"元\\n\")"
      ],
      "metadata": {
        "colab": {
          "base_uri": "https://localhost:8080/"
        },
        "id": "lzWlZQIcJjTB",
        "outputId": "2a1cfdc2-d4d3-45f9-9c01-3aadaf8466ab"
      },
      "execution_count": null,
      "outputs": [
        {
          "output_type": "stream",
          "name": "stdout",
          "text": [
            "請輸入購物金額:100000\n",
            "八折 80000.0元\n"
          ]
        }
      ]
    },
    {
      "cell_type": "code",
      "source": [
        "score = int(input(\"請輸入成績\"))\n",
        "if(score>=90):\n",
        "    print(\"A\")\n",
        "elif(score>=80)and(score<=89):\n",
        "    print(\"B\")\n",
        "elif(score>=70)and(score<=79):\n",
        "    print(\"C\")\n",
        "elif(score>=60)and(score<=69):\n",
        "    print(\"D\")\n",
        "else:\n",
        "    print(\"E\")"
      ],
      "metadata": {
        "colab": {
          "base_uri": "https://localhost:8080/"
        },
        "id": "ky5FOxJaqJaP",
        "outputId": "cfb27519-5bee-4820-ba47-6a7d3d0c213f"
      },
      "execution_count": null,
      "outputs": [
        {
          "output_type": "stream",
          "name": "stdout",
          "text": [
            "請輸入成績90\n",
            "A\n"
          ]
        }
      ]
    },
    {
      "cell_type": "code",
      "source": [
        "score = int(input(\"請輸入成績\"))\n",
        "if(score>=90):\n",
        "    print(\"A\")\n",
        "elif(score>=80)and(score<=89):\n",
        "    print(\"B\")\n",
        "elif(score>=70)and(score<=79):\n",
        "    print(\"C\")\n",
        "elif(score>=60)and(score<=69):\n",
        "    print(\"D\")\n",
        "else:\n",
        "    print(\"E\")"
      ],
      "metadata": {
        "colab": {
          "base_uri": "https://localhost:8080/"
        },
        "id": "vql5tniRsNXF",
        "outputId": "afb0da92-cc3e-4abe-b125-ba9617f4d028"
      },
      "execution_count": null,
      "outputs": [
        {
          "output_type": "stream",
          "name": "stdout",
          "text": [
            "請輸入成績80\n",
            "B\n"
          ]
        }
      ]
    },
    {
      "cell_type": "code",
      "source": [
        "score = int(input(\"請輸入成績\"))\n",
        "if(score>=90):\n",
        "    print(\"A\")\n",
        "elif(score>=80)and(score<=89):\n",
        "    print(\"B\")\n",
        "elif(score>=70)and(score<=79):\n",
        "    print(\"C\")\n",
        "elif(score>=60)and(score<=69):\n",
        "    print(\"D\")\n",
        "else:\n",
        "    print(\"E\")"
      ],
      "metadata": {
        "colab": {
          "base_uri": "https://localhost:8080/"
        },
        "id": "Pas38BEtsRLs",
        "outputId": "5e0b2fc2-9ff6-4eb6-aabf-4406a32ba688"
      },
      "execution_count": null,
      "outputs": [
        {
          "output_type": "stream",
          "name": "stdout",
          "text": [
            "請輸入成績50\n",
            "E\n"
          ]
        }
      ]
    },
    {
      "cell_type": "code",
      "source": [
        "\n",
        "month = int(input(\"請輸入月份\"))\n",
        "if(month == 3) or (month == 4)or (month == 5):\n",
        "    print(month,\"月是春天!\")\n",
        "elif(month == 6) or (month == 7)or (month == 8):\n",
        "    print(month,\"月是夏天!\")\n",
        "elif(month == 9) or (month == 10)or (month == 11):\n",
        "    print(month,\"月是秋天!\")\n",
        "elif(month == 12) or (month == 1)or (month == 2):\n",
        "    print(month,\"月是冬天!\")\n",
        "else:\n",
        "    print(\"月份不在範圍內!\")"
      ],
      "metadata": {
        "colab": {
          "base_uri": "https://localhost:8080/"
        },
        "id": "fnTJQBawsS5V",
        "outputId": "bf66d1c9-2a8b-4d5a-9dc5-7fdb436be263"
      },
      "execution_count": null,
      "outputs": [
        {
          "output_type": "stream",
          "name": "stdout",
          "text": [
            "請輸入月份7\n",
            "7 月是夏天!\n"
          ]
        }
      ]
    },
    {
      "cell_type": "code",
      "source": [
        "net = int(input(\"請輸入今年收入淨額:\"))\n",
        "if(net>=2000000):\n",
        "    print(\"付稅金額:\",net*0.30,end = \"元\")\n",
        "elif(net>=1000000)and(net<2000000):\n",
        "    print(\"付稅金額:\",net*0.21,end = \"元\")\n",
        "elif(net>=600000)and(net<1000000):\n",
        "    print(\"付稅金額:\",net*0.13,end = \"元\")\n",
        "elif(net>=300000)and(net<600000):\n",
        "    print(\"付稅金額:\",net*0.06,end = \"元\")\n",
        "else:\n",
        "    print(\"付稅金額:\",net*0,end = \"元\\n\")\n",
        "net = int(input(\"請輸入今年收入淨額:\"))\n",
        "if(net>=2000000):\n",
        "    print(\"付稅金額:\",net*0.30,end = \"元\")\n",
        "elif(net>=1000000)and(net<2000000):\n",
        "    print(\"付稅金額:\",net*0.21,end = \"元\")\n",
        "elif(net>=600000)and(net<1000000):\n",
        "    print(\"付稅金額:\",net*0.13,end = \"元\")\n",
        "elif(net>=300000)and(net<600000):\n",
        "    print(\"付稅金額:\",net*0.06,end = \"元\")\n",
        "else:\n",
        "    print(\"付稅金額:\",net*0,end = \"元\")"
      ],
      "metadata": {
        "id": "-fLJvnzHuohu",
        "colab": {
          "base_uri": "https://localhost:8080/"
        },
        "outputId": "8982fd2c-d56b-4b9f-8a4c-f3a41709c7fe"
      },
      "execution_count": 1,
      "outputs": [
        {
          "output_type": "stream",
          "name": "stdout",
          "text": [
            "請輸入今年收入淨額:100000\n",
            "付稅金額: 0元\n",
            "請輸入今年收入淨額:2000000\n",
            "付稅金額: 600000.0元"
          ]
        }
      ]
    }
  ]
}